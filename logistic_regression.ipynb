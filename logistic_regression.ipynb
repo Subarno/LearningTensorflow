{
 "cells": [
  {
   "cell_type": "code",
   "execution_count": 42,
   "metadata": {},
   "outputs": [],
   "source": [
    "import tensorflow as tf"
   ]
  },
  {
   "cell_type": "markdown",
   "metadata": {},
   "source": [
    "Because we love it!"
   ]
  },
  {
   "cell_type": "code",
   "execution_count": 43,
   "metadata": {},
   "outputs": [
    {
     "name": "stdout",
     "output_type": "stream",
     "text": [
      "Extracting /tmp/data/train-images-idx3-ubyte.gz\n",
      "Extracting /tmp/data/train-labels-idx1-ubyte.gz\n",
      "Extracting /tmp/data/t10k-images-idx3-ubyte.gz\n",
      "Extracting /tmp/data/t10k-labels-idx1-ubyte.gz\n"
     ]
    }
   ],
   "source": [
    "from tensorflow.examples.tutorials.mnist import input_data\n",
    "mnist = input_data.read_data_sets(\"/tmp/data/\", one_hot=True)"
   ]
  },
  {
   "cell_type": "markdown",
   "metadata": {},
   "source": [
    "MNIST is one of the most widely used dataset consisting of handwritten digits from 0-9."
   ]
  },
  {
   "cell_type": "markdown",
   "metadata": {},
   "source": [
    "Our logistic regression model would predict the digit from the image."
   ]
  },
  {
   "cell_type": "code",
   "execution_count": 44,
   "metadata": {},
   "outputs": [],
   "source": [
    "learning_rate = 0.01\n",
    "training_epochs = 25\n",
    "batch_size = 100"
   ]
  },
  {
   "cell_type": "markdown",
   "metadata": {},
   "source": [
    "Setting hyper Parameters."
   ]
  },
  {
   "cell_type": "code",
   "execution_count": 45,
   "metadata": {},
   "outputs": [],
   "source": [
    "# tf Graph Input\n",
    "x = tf.placeholder(tf.float32, [None, 784]) # mnist data image of shape 28*28=784\n",
    "y = tf.placeholder(tf.float32, [None, 10]) # 0-9 digits recognition => 10 classes\n",
    "cost_list = []\n",
    "accuracy_list = []\n",
    "# Set model weights\n",
    "W = tf.Variable(tf.zeros([784, 10]))\n",
    "b = tf.Variable(tf.zeros([10]))"
   ]
  },
  {
   "cell_type": "markdown",
   "metadata": {},
   "source": [
    "The graph input is kept in placeholder. The weight and the biases are graph variables."
   ]
  },
  {
   "cell_type": "code",
   "execution_count": 46,
   "metadata": {},
   "outputs": [],
   "source": [
    "pred = tf.nn.softmax(tf.matmul(x, W) + b) \n",
    "cost = tf.reduce_mean(-tf.reduce_sum(y*tf.log(pred), reduction_indices=1))\n",
    "optimizer = tf.train.GradientDescentOptimizer(learning_rate).minimize(cost)\n",
    "init = tf.global_variables_initializer()"
   ]
  },
  {
   "cell_type": "markdown",
   "metadata": {},
   "source": [
    "The model consists of softmax activation function. We train the model by minimizing the cost function by gradient descent optimizer."
   ]
  },
  {
   "cell_type": "code",
   "execution_count": 47,
   "metadata": {},
   "outputs": [
    {
     "name": "stdout",
     "output_type": "stream",
     "text": [
      "Epoch: 1 cost= 1.184\n",
      "Accuracy: 0.856\n",
      "Epoch: 2 cost= 0.665\n",
      "Accuracy: 0.8749\n",
      "Epoch: 3 cost= 0.553\n",
      "Accuracy: 0.8826\n",
      "Epoch: 4 cost= 0.499\n",
      "Accuracy: 0.8871\n",
      "Epoch: 5 cost= 0.466\n",
      "Accuracy: 0.8915\n",
      "Epoch: 6 cost= 0.443\n",
      "Accuracy: 0.8953\n",
      "Epoch: 7 cost= 0.426\n",
      "Accuracy: 0.8977\n",
      "Epoch: 8 cost= 0.412\n",
      "Accuracy: 0.9\n",
      "Epoch: 9 cost= 0.401\n",
      "Accuracy: 0.901\n",
      "Epoch: 10 cost= 0.392\n",
      "Accuracy: 0.9026\n",
      "Epoch: 11 cost= 0.385\n",
      "Accuracy: 0.9038\n",
      "Epoch: 12 cost= 0.378\n",
      "Accuracy: 0.9065\n",
      "Epoch: 13 cost= 0.372\n",
      "Accuracy: 0.9072\n",
      "Epoch: 14 cost= 0.367\n",
      "Accuracy: 0.9074\n",
      "Epoch: 15 cost= 0.363\n",
      "Accuracy: 0.9083\n",
      "Epoch: 16 cost= 0.359\n",
      "Accuracy: 0.9089\n",
      "Epoch: 17 cost= 0.355\n",
      "Accuracy: 0.9099\n",
      "Epoch: 18 cost= 0.351\n",
      "Accuracy: 0.9103\n",
      "Epoch: 19 cost= 0.348\n",
      "Accuracy: 0.9108\n",
      "Epoch: 20 cost= 0.345\n",
      "Accuracy: 0.9113\n",
      "Epoch: 21 cost= 0.343\n",
      "Accuracy: 0.9125\n",
      "Epoch: 22 cost= 0.340\n",
      "Accuracy: 0.9128\n",
      "Epoch: 23 cost= 0.338\n",
      "Accuracy: 0.9128\n",
      "Epoch: 24 cost= 0.336\n",
      "Accuracy: 0.9133\n",
      "Epoch: 25 cost= 0.334\n",
      "Accuracy: 0.9138\n"
     ]
    }
   ],
   "source": [
    "with tf.Session() as sess:\n",
    "\n",
    "    sess.run(init)\n",
    "\n",
    "    for epoch in range(training_epochs):\n",
    "        avg_cost = 0.\n",
    "        total_batch = int(mnist.train.num_examples/batch_size)\n",
    "        # Loop over all batches\n",
    "        for i in range(total_batch):\n",
    "            batch_xs, batch_ys = mnist.train.next_batch(batch_size)\n",
    "            # Run optimization op (backprop) and cost op (to get loss value)\n",
    "            _, c = sess.run([optimizer, cost], feed_dict={x: batch_xs, y: batch_ys})\n",
    "            # Compute average loss\n",
    "            avg_cost += c / total_batch\n",
    "        # Display logs per epoch step\n",
    "        cost_list.append(avg_cost)\n",
    "        print(\"Epoch:\", (epoch+1), \"cost=\", \"{:.3f}\".format(avg_cost))\n",
    "        \n",
    "        #Testing the model\n",
    "        correct_prediction = tf.equal(tf.argmax(pred, 1), tf.argmax(y, 1))\n",
    "        accuracy = tf.reduce_mean(tf.cast(correct_prediction, tf.float32))\n",
    "        accuracy_list.append(accuracy.eval({x: mnist.test.images, y: mnist.test.labels}))\n",
    "        print(\"Accuracy:\", accuracy.eval({x: mnist.test.images, y: mnist.test.labels}))"
   ]
  },
  {
   "cell_type": "markdown",
   "metadata": {},
   "source": [
    "The previous session trains the model with batches of image."
   ]
  },
  {
   "cell_type": "markdown",
   "metadata": {},
   "source": [
    "finally testing the model with accuracy prediction."
   ]
  },
  {
   "cell_type": "code",
   "execution_count": 48,
   "metadata": {},
   "outputs": [
    {
     "data": {
      "image/png": "[encoded data removed]",
      "text/plain": [
       "<Figure size 432x288 with 1 Axes>"
      ]
     },
     "metadata": {},
     "output_type": "display_data"
    }
   ],
   "source": [
    "import matplotlib.pyplot as plt\n",
    "plt.plot(cost_list)\n",
    "plt.show()"
   ]
  }
 ],
 "metadata": {
  "kernelspec": {
   "display_name": "Python 3",
   "language": "python",
   "name": "python3"
  },
  "language_info": {
   "codemirror_mode": {
    "name": "ipython",
    "version": 3
   },
   "file_extension": ".py",
   "mimetype": "text/x-python",
   "name": "python",
   "nbconvert_exporter": "python",
   "pygments_lexer": "ipython3",
   "version": "3.5.2"
  }
 },
 "nbformat": 4,
 "nbformat_minor": 2
}
