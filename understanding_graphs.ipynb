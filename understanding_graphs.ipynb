{
  "nbformat": 4,
  "nbformat_minor": 0,
  "metadata": {
    "colab": {
      "name": "understanding_graphs.ipynb",
      "version": "0.3.2",
      "provenance": [],
      "include_colab_link": true
    },
    "kernelspec": {
      "name": "python3",
      "display_name": "Python 3"
    }
  },
  "cells": [
    {
      "cell_type": "markdown",
      "metadata": {
        "id": "view-in-github",
        "colab_type": "text"
      },
      "source": [
        "[View in Colaboratory](https://colab.research.google.com/github/Subarno/LearningTensorflow/blob/master/understanding_graphs.ipynb)"
      ]
    },
    {
      "metadata": {
        "id": "qdBkNP1rTcsn",
        "colab_type": "code",
        "colab": {}
      },
      "cell_type": "code",
      "source": [
        "import tensorflow as tf"
      ],
      "execution_count": 0,
      "outputs": []
    },
    {
      "metadata": {
        "id": "rFmz8JaBgw94",
        "colab_type": "text"
      },
      "cell_type": "markdown",
      "source": [
        "Our main objective of this code is to understand hoe graphs work in Tesorflow env."
      ]
    },
    {
      "metadata": {
        "id": "nZEw839Og7sb",
        "colab_type": "text"
      },
      "cell_type": "markdown",
      "source": [
        "Tensorflow initializes the system with a default graph and it is strongly recommended to use the initial graph. But we hereby show how multiple graphs can be operated which might be very helpfull in multiple usecases."
      ]
    },
    {
      "metadata": {
        "id": "OjRg_1Ds2DEf",
        "colab_type": "text"
      },
      "cell_type": "markdown",
      "source": [
        "We create a customised graph 'g'. "
      ]
    },
    {
      "metadata": {
        "id": "4PuJZOiXhryk",
        "colab_type": "code",
        "colab": {}
      },
      "cell_type": "code",
      "source": [
        "g = tf.Graph()\n",
        "\n",
        "#To add ooperater to a graph set it as default\n",
        "with g.as_default():\n",
        "  x = tf.add(3,5)\n",
        "  "
      ],
      "execution_count": 0,
      "outputs": []
    },
    {
      "metadata": {
        "id": "9_oeGPpm2QET",
        "colab_type": "text"
      },
      "cell_type": "markdown",
      "source": [
        "To run the session we have to set graph as g."
      ]
    },
    {
      "metadata": {
        "id": "GgcvE0ScsXIk",
        "colab_type": "code",
        "colab": {
          "base_uri": "https://localhost:8080/",
          "height": 34
        },
        "outputId": "ea54c66b-a15a-4657-f058-089ba3378ace"
      },
      "cell_type": "code",
      "source": [
        "with tf.Session(graph=g) as sess:\n",
        "  print(sess.run(x))"
      ],
      "execution_count": 21,
      "outputs": [
        {
          "output_type": "stream",
          "text": [
            "8\n"
          ],
          "name": "stdout"
        }
      ]
    },
    {
      "metadata": {
        "id": "eJI8PH6J2ZyM",
        "colab_type": "text"
      },
      "cell_type": "markdown",
      "source": [
        "Now we show how multiple graphs can be instantiated. To build the graphs we need to set bot of them as default separately."
      ]
    },
    {
      "metadata": {
        "id": "MgYBuuCVxiCX",
        "colab_type": "code",
        "colab": {
          "base_uri": "https://localhost:8080/",
          "height": 51
        },
        "outputId": "db21e395-65c1-47ea-83ca-1f2de0cac220"
      },
      "cell_type": "code",
      "source": [
        "g1 = tf.Graph()\n",
        "g2 = tf.Graph()\n",
        "\n",
        "with g1.as_default():\n",
        "  y = tf.add(3,4)\n",
        "  \n",
        "with g2.as_default():\n",
        "  z = tf.add(5,6)\n",
        "  \n",
        "with tf.Session(graph=g1) as sess:\n",
        "  print(sess.run(y))\n",
        "  \n",
        "with tf.Session(graph=g2) as sess:\n",
        "  print(sess.run(z))\n"
      ],
      "execution_count": 22,
      "outputs": [
        {
          "output_type": "stream",
          "text": [
            "7\n",
            "11\n"
          ],
          "name": "stdout"
        }
      ]
    },
    {
      "metadata": {
        "id": "ZGWE69OS2x2k",
        "colab_type": "text"
      },
      "cell_type": "markdown",
      "source": [
        "It is strongly recomended to use single graph."
      ]
    }
  ]
}