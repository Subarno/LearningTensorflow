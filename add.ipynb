{
  "nbformat": 4,
  "nbformat_minor": 0,
  "metadata": {
    "colab": {
      "name": "add.ipynb",
      "version": "0.3.2",
      "provenance": [],
      "collapsed_sections": [],
      "include_colab_link": true
    },
    "kernelspec": {
      "name": "python3",
      "display_name": "Python 3"
    }
  },
  "cells": [
    {
      "cell_type": "markdown",
      "metadata": {
        "id": "view-in-github",
        "colab_type": "text"
      },
      "source": [
        "[View in Colaboratory](https://colab.research.google.com/github/Subarno/LearningTensorflow/blob/master/add.ipynb)"
      ]
    },
    {
      "metadata": {
        "id": "0vpbc5P8Zjq3",
        "colab_type": "text"
      },
      "cell_type": "markdown",
      "source": [
        "As we import numpy as np, panda as pd should import tensorflow as tf.\n",
        "Just kidding we can import anyhow."
      ]
    },
    {
      "metadata": {
        "id": "5Fl1BqQcXGMc",
        "colab_type": "code",
        "colab": {}
      },
      "cell_type": "code",
      "source": [
        "import tensorflow as tf"
      ],
      "execution_count": 0,
      "outputs": []
    },
    {
      "metadata": {
        "id": "qRv9M4grbdf9",
        "colab_type": "text"
      },
      "cell_type": "markdown",
      "source": [
        "We want to add to constants say 3 and 5, we need to create a node as a which adds 3 and 5."
      ]
    },
    {
      "metadata": {
        "id": "VkOdMY-PYYan",
        "colab_type": "code",
        "colab": {
          "base_uri": "https://localhost:8080/",
          "height": 34
        },
        "outputId": "235bcb70-45b7-4e98-b8ce-4bcf9acb4c77"
      },
      "cell_type": "code",
      "source": [
        "a = tf.add(3,5)\n",
        "print(a)"
      ],
      "execution_count": 11,
      "outputs": [
        {
          "output_type": "stream",
          "text": [
            "Tensor(\"Add_5:0\", shape=(), dtype=int32)\n"
          ],
          "name": "stdout"
        }
      ]
    },
    {
      "metadata": {
        "id": "g_GitqfaZzB0",
        "colab_type": "text"
      },
      "cell_type": "markdown",
      "source": [
        "Prints node a not '8'.\n",
        "So we need to open up a session to run the node.\n",
        "The session performs the operation of addition of two constants, and finally we close it.\n",
        "\n"
      ]
    },
    {
      "metadata": {
        "id": "kIkTGaWZZ9i_",
        "colab_type": "code",
        "colab": {
          "base_uri": "https://localhost:8080/",
          "height": 34
        },
        "outputId": "c4112299-8a72-48db-c6b3-033c80e6ecba"
      },
      "cell_type": "code",
      "source": [
        "#Open up a session\n",
        "sess = tf.Session()\n",
        "#Pass a node 'a' to the session\n",
        "print(sess.run(a))\n",
        "#Close the session\n",
        "sess.close()"
      ],
      "execution_count": 13,
      "outputs": [
        {
          "output_type": "stream",
          "text": [
            "8\n"
          ],
          "name": "stdout"
        }
      ]
    },
    {
      "metadata": {
        "id": "3EnbFsmbcSLv",
        "colab_type": "text"
      },
      "cell_type": "markdown",
      "source": [
        "Using with clause we don't need explicit sess.close()"
      ]
    },
    {
      "metadata": {
        "id": "tRoR2Wl_aOAZ",
        "colab_type": "code",
        "colab": {
          "base_uri": "https://localhost:8080/",
          "height": 34
        },
        "outputId": "dc493ddb-0116-4077-b45b-c255b27a26d7"
      },
      "cell_type": "code",
      "source": [
        "with tf.Session() as sess:\n",
        "        print(sess.run(a))\n"
      ],
      "execution_count": 15,
      "outputs": [
        {
          "output_type": "stream",
          "text": [
            "8\n"
          ],
          "name": "stdout"
        }
      ]
    }
  ]
}