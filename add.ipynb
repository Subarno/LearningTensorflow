{
  "nbformat": 4,
  "nbformat_minor": 0,
  "metadata": {
    "colab": {
      "name": "add.ipynb",
      "version": "0.3.2",
      "provenance": [],
      "collapsed_sections": [],
      "include_colab_link": true
    },
    "kernelspec": {
      "name": "python3",
      "display_name": "Python 3"
    }
  },
  "cells": [
    {
      "cell_type": "markdown",
      "metadata": {
        "id": "view-in-github",
        "colab_type": "text"
      },
      "source": [
        "[View in Colaboratory](https://colab.research.google.com/github/Subarno/LearningTensorflow/blob/master/add.ipynb)"
      ]
    },
    {
      "metadata": {
        "id": "5Fl1BqQcXGMc",
        "colab_type": "code",
        "colab": {}
      },
      "cell_type": "code",
      "source": [
        "import tensorflow as tf"
      ],
      "execution_count": 0,
      "outputs": []
    },
    {
      "metadata": {
        "id": "0vpbc5P8Zjq3",
        "colab_type": "text"
      },
      "cell_type": "markdown",
      "source": [
        ""
      ]
    },
    {
      "metadata": {
        "id": "VkOdMY-PYYan",
        "colab_type": "code",
        "colab": {
          "base_uri": "https://localhost:8080/",
          "height": 34
        },
        "outputId": "235bcb70-45b7-4e98-b8ce-4bcf9acb4c77"
      },
      "cell_type": "code",
      "source": [
        "a = tf.add(3,5)\n",
        "print(a)"
      ],
      "execution_count": 11,
      "outputs": [
        {
          "output_type": "stream",
          "text": [
            "Tensor(\"Add_5:0\", shape=(), dtype=int32)\n"
          ],
          "name": "stdout"
        }
      ]
    },
    {
      "metadata": {
        "id": "g_GitqfaZzB0",
        "colab_type": "text"
      },
      "cell_type": "markdown",
      "source": [
        "Prints node a not '8' "
      ]
    },
    {
      "metadata": {
        "id": "kIkTGaWZZ9i_",
        "colab_type": "code",
        "colab": {
          "base_uri": "https://localhost:8080/",
          "height": 34
        },
        "outputId": "c4112299-8a72-48db-c6b3-033c80e6ecba"
      },
      "cell_type": "code",
      "source": [
        "#Open up a session\n",
        "sess = tf.Session()\n",
        "#Pass a node 'a' to the session\n",
        "print(sess.run(a))\n",
        "#Close the session\n",
        "sess.close()\n"
      ],
      "execution_count": 13,
      "outputs": [
        {
          "output_type": "stream",
          "text": [
            "8\n"
          ],
          "name": "stdout"
        }
      ]
    },
    {
      "metadata": {
        "id": "tRoR2Wl_aOAZ",
        "colab_type": "code",
        "colab": {
          "base_uri": "https://localhost:8080/",
          "height": 34
        },
        "outputId": "68893a25-9789-4ce6-996b-44798c22237c"
      },
      "cell_type": "code",
      "source": [
        "#Using with clause we don't need explicit sess.close()\n",
        "with tf.Session() as sess:\n",
        "        print(sess.run(a))\n"
      ],
      "execution_count": 14,
      "outputs": [
        {
          "output_type": "stream",
          "text": [
            "8\n"
          ],
          "name": "stdout"
        }
      ]
    }
  ]
}