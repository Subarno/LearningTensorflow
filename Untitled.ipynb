{
 "cells": [
  {
   "cell_type": "code",
   "execution_count": 1,
   "metadata": {},
   "outputs": [
    {
     "name": "stdout",
     "output_type": "stream",
     "text": [
      "Extracting MNIST_data/train-images-idx3-ubyte.gz\n",
      "Extracting MNIST_data/train-labels-idx1-ubyte.gz\n",
      "Extracting MNIST_data/t10k-images-idx3-ubyte.gz\n",
      "Extracting MNIST_data/t10k-labels-idx1-ubyte.gz\n",
      "Epoch 0 elbo -543.4426\n"
     ]
    },
    {
     "name": "stderr",
     "output_type": "stream",
     "text": [
      "/home/subarno/.local/lib/python3.5/site-packages/matplotlib/cbook/deprecation.py:107: MatplotlibDeprecationWarning: Passing one of 'on', 'true', 'off', 'false' as a boolean is deprecated; use an actual boolean (True/False) instead.\n",
      "  warnings.warn(message, mplDeprecation, stacklevel=1)\n"
     ]
    },
    {
     "name": "stdout",
     "output_type": "stream",
     "text": [
      "Epoch 5 elbo -151.91914\n"
     ]
    },
    {
     "ename": "TypeError",
     "evalue": "imshow() missing 1 required positional argument: 'X'",
     "output_type": "error",
     "traceback": [
      "\u001b[0;31m---------------------------------------------------------------------------\u001b[0m",
      "\u001b[0;31mTypeError\u001b[0m                                 Traceback (most recent call last)",
      "\u001b[0;32m<ipython-input-1-dd846030560d>\u001b[0m in \u001b[0;36m<module>\u001b[0;34m()\u001b[0m\n\u001b[1;32m     79\u001b[0m       \u001b[0mfeed\u001b[0m \u001b[0;34m=\u001b[0m \u001b[0;34m{\u001b[0m\u001b[0mdata\u001b[0m\u001b[0;34m:\u001b[0m \u001b[0mmnist\u001b[0m\u001b[0;34m.\u001b[0m\u001b[0mtrain\u001b[0m\u001b[0;34m.\u001b[0m\u001b[0mnext_batch\u001b[0m\u001b[0;34m(\u001b[0m\u001b[0;36m100\u001b[0m\u001b[0;34m)\u001b[0m\u001b[0;34m[\u001b[0m\u001b[0;36m0\u001b[0m\u001b[0;34m]\u001b[0m\u001b[0;34m.\u001b[0m\u001b[0mreshape\u001b[0m\u001b[0;34m(\u001b[0m\u001b[0;34m[\u001b[0m\u001b[0;34m-\u001b[0m\u001b[0;36m1\u001b[0m\u001b[0;34m,\u001b[0m \u001b[0;36m28\u001b[0m\u001b[0;34m,\u001b[0m \u001b[0;36m28\u001b[0m\u001b[0;34m]\u001b[0m\u001b[0;34m)\u001b[0m\u001b[0;34m}\u001b[0m\u001b[0;34m\u001b[0m\u001b[0m\n\u001b[1;32m     80\u001b[0m       \u001b[0msess\u001b[0m\u001b[0;34m.\u001b[0m\u001b[0mrun\u001b[0m\u001b[0;34m(\u001b[0m\u001b[0moptimize\u001b[0m\u001b[0;34m,\u001b[0m \u001b[0mfeed\u001b[0m\u001b[0;34m)\u001b[0m\u001b[0;34m\u001b[0m\u001b[0m\n\u001b[0;32m---> 81\u001b[0;31m \u001b[0mplt\u001b[0m\u001b[0;34m.\u001b[0m\u001b[0mimshow\u001b[0m\u001b[0;34m(\u001b[0m\u001b[0;34m)\u001b[0m\u001b[0;34m\u001b[0m\u001b[0m\n\u001b[0m",
      "\u001b[0;31mTypeError\u001b[0m: imshow() missing 1 required positional argument: 'X'"
     ]
    }
   ],
   "source": [
    "import numpy as np\n",
    "import matplotlib.pyplot as plt\n",
    "import tensorflow as tf\n",
    "from tensorflow.examples.tutorials.mnist import input_data\n",
    "\n",
    "tfd = tf.contrib.distributions\n",
    "\n",
    "\n",
    "def make_encoder(data, code_size):\n",
    "  x = tf.layers.flatten(data)\n",
    "  x = tf.layers.dense(x, 200, tf.nn.relu)\n",
    "  x = tf.layers.dense(x, 200, tf.nn.relu)\n",
    "  loc = tf.layers.dense(x, code_size)\n",
    "  scale = tf.layers.dense(x, code_size, tf.nn.softplus)\n",
    "  return tfd.MultivariateNormalDiag(loc, scale)\n",
    "\n",
    "\n",
    "def make_prior(code_size):\n",
    "  loc = tf.zeros(code_size)\n",
    "  scale = tf.ones(code_size)\n",
    "  return tfd.MultivariateNormalDiag(loc, scale)\n",
    "\n",
    "\n",
    "def make_decoder(code, data_shape):\n",
    "  x = code\n",
    "  x = tf.layers.dense(x, 200, tf.nn.relu)\n",
    "  x = tf.layers.dense(x, 200, tf.nn.relu)\n",
    "  logit = tf.layers.dense(x, np.prod(data_shape))\n",
    "  logit = tf.reshape(logit, [-1] + data_shape)\n",
    "  return tfd.Independent(tfd.Bernoulli(logit), 2)\n",
    "\n",
    "\n",
    "def plot_codes(ax, codes, labels):\n",
    "  ax.scatter(codes[:, 0], codes[:, 1], s=2, c=labels, alpha=0.1)\n",
    "  ax.set_aspect('equal')\n",
    "  ax.set_xlim(codes.min() - .1, codes.max() + .1)\n",
    "  ax.set_ylim(codes.min() - .1, codes.max() + .1)\n",
    "  ax.tick_params(\n",
    "      axis='both', which='both', left='off', bottom='off',\n",
    "      labelleft='off', labelbottom='off')\n",
    "\n",
    "\n",
    "def plot_samples(ax, samples):\n",
    "  for index, sample in enumerate(samples):\n",
    "    ax[index].imshow(sample, cmap='gray')\n",
    "    ax[index].axis('off')\n",
    "\n",
    "\n",
    "data = tf.placeholder(tf.float32, [None, 28, 28])\n",
    "\n",
    "make_encoder = tf.make_template('encoder', make_encoder)\n",
    "make_decoder = tf.make_template('decoder', make_decoder)\n",
    "\n",
    "# Define the model.\n",
    "prior = make_prior(code_size=2)\n",
    "posterior = make_encoder(data, code_size=2)\n",
    "code = posterior.sample()\n",
    "\n",
    "# Define the loss.\n",
    "likelihood = make_decoder(code, [28, 28]).log_prob(data)\n",
    "divergence = tfd.kl_divergence(posterior, prior)\n",
    "elbo = tf.reduce_mean(likelihood - divergence)\n",
    "optimize = tf.train.AdamOptimizer(0.001).minimize(-elbo)\n",
    "\n",
    "samples = make_decoder(prior.sample(10), [28, 28]).mean()\n",
    "\n",
    "mnist = input_data.read_data_sets('MNIST_data/')\n",
    "fig, ax = plt.subplots(nrows=20, ncols=11, figsize=(10, 20))\n",
    "with tf.train.MonitoredSession() as sess:\n",
    "  for epoch in range(6):\n",
    "    feed = {data: mnist.test.images.reshape([-1, 28, 28])}\n",
    "    test_elbo, test_codes, test_samples = sess.run([elbo, code, samples], feed)\n",
    "    if(epoch%5==0):\n",
    "        print('Epoch', epoch, 'elbo', test_elbo)\n",
    "    ax[epoch, 0].set_ylabel('Epoch {}'.format(epoch))\n",
    "    plot_codes(ax[epoch, 0], test_codes, mnist.test.labels)\n",
    "    plot_samples(ax[epoch, 1:], test_samples)\n",
    "    for _ in range(600):\n",
    "      feed = {data: mnist.train.next_batch(100)[0].reshape([-1, 28, 28])}\n",
    "      sess.run(optimize, feed)\n",
    "plt.imshow()"
   ]
  },
  {
   "cell_type": "code",
   "execution_count": 2,
   "metadata": {},
   "outputs": [
    {
     "ename": "TypeError",
     "evalue": "imshow() missing 1 required positional argument: 'X'",
     "output_type": "error",
     "traceback": [
      "\u001b[0;31m---------------------------------------------------------------------------\u001b[0m",
      "\u001b[0;31mTypeError\u001b[0m                                 Traceback (most recent call last)",
      "\u001b[0;32m<ipython-input-2-e2a04aff946b>\u001b[0m in \u001b[0;36m<module>\u001b[0;34m()\u001b[0m\n\u001b[0;32m----> 1\u001b[0;31m \u001b[0mplt\u001b[0m\u001b[0;34m.\u001b[0m\u001b[0mimshow\u001b[0m\u001b[0;34m(\u001b[0m\u001b[0;34m)\u001b[0m\u001b[0;34m\u001b[0m\u001b[0m\n\u001b[0m",
      "\u001b[0;31mTypeError\u001b[0m: imshow() missing 1 required positional argument: 'X'"
     ]
    }
   ],
   "source": []
  },
  {
   "cell_type": "code",
   "execution_count": null,
   "metadata": {},
   "outputs": [],
   "source": []
  }
 ],
 "metadata": {
  "kernelspec": {
   "display_name": "Python 3",
   "language": "python",
   "name": "python3"
  },
  "language_info": {
   "codemirror_mode": {
    "name": "ipython",
    "version": 3
   },
   "file_extension": ".py",
   "mimetype": "text/x-python",
   "name": "python",
   "nbconvert_exporter": "python",
   "pygments_lexer": "ipython3",
   "version": "3.5.2"
  }
 },
 "nbformat": 4,
 "nbformat_minor": 2
}
