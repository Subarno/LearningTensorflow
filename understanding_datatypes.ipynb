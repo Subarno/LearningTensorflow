{
  "nbformat": 4,
  "nbformat_minor": 0,
  "metadata": {
    "colab": {
      "name": "understanding_datatypes.ipynb",
      "version": "0.3.2",
      "provenance": [],
      "collapsed_sections": [],
      "include_colab_link": true
    },
    "kernelspec": {
      "name": "python3",
      "display_name": "Python 3"
    }
  },
  "cells": [
    {
      "cell_type": "markdown",
      "metadata": {
        "id": "view-in-github",
        "colab_type": "text"
      },
      "source": [
        "[View in Colaboratory](https://colab.research.google.com/github/Subarno/LearningTensorflow/blob/master/understanding_datatypes.ipynb)"
      ]
    },
    {
      "metadata": {
        "id": "_EeUOjHFZ8Os",
        "colab_type": "code",
        "colab": {}
      },
      "cell_type": "code",
      "source": [
        "import tensorflow as tf"
      ],
      "execution_count": 0,
      "outputs": []
    },
    {
      "metadata": {
        "id": "r-ye_8S6D4ad",
        "colab_type": "text"
      },
      "cell_type": "markdown",
      "source": [
        "This part is basically for understanding and showcasing the use of different Tensorflow datatypes."
      ]
    },
    {
      "metadata": {
        "id": "hgm9gCKQApt-",
        "colab_type": "code",
        "colab": {
          "base_uri": "https://localhost:8080/",
          "height": 51
        },
        "outputId": "f6c4b2a3-d276-4f14-a008-bca66d530655"
      },
      "cell_type": "code",
      "source": [
        "a = tf.constant(2,shape=[2,2], name='a')\n",
        "#a = tf.constant(2,shape=[2,2], verify_shape=True) generates error as shpe is verified\n",
        "\n",
        "tf.InteractiveSession()\n",
        "\n",
        "a.eval()"
      ],
      "execution_count": 3,
      "outputs": [
        {
          "output_type": "execute_result",
          "data": {
            "text/plain": [
              "array([[2, 2],\n",
              "       [2, 2]], dtype=int32)"
            ]
          },
          "metadata": {
            "tags": []
          },
          "execution_count": 3
        }
      ]
    },
    {
      "metadata": {
        "id": "Wn59jAxmLjKX",
        "colab_type": "text"
      },
      "cell_type": "markdown",
      "source": [
        "Creates a constant tensor. The operations are demonstrated using Interactive session."
      ]
    },
    {
      "metadata": {
        "id": "NWfV-lSQCl_B",
        "colab_type": "code",
        "colab": {
          "base_uri": "https://localhost:8080/",
          "height": 51
        },
        "outputId": "5499def4-1eb0-4f6d-fcd9-69fe66feba35"
      },
      "cell_type": "code",
      "source": [
        "b = tf.constant([[0,1],[2,3]],name='b')\n",
        "\n",
        "x = tf.add(a,b,name='add')\n",
        "\n",
        "x.eval()"
      ],
      "execution_count": 6,
      "outputs": [
        {
          "output_type": "execute_result",
          "data": {
            "text/plain": [
              "array([[2, 3],\n",
              "       [4, 5]], dtype=int32)"
            ]
          },
          "metadata": {
            "tags": []
          },
          "execution_count": 6
        }
      ]
    },
    {
      "metadata": {
        "id": "tpoSRZ2XNA1m",
        "colab_type": "code",
        "colab": {
          "base_uri": "https://localhost:8080/",
          "height": 51
        },
        "outputId": "78f6537f-591e-4843-d7eb-9a43adc6d93c"
      },
      "cell_type": "code",
      "source": [
        "y = tf.multiply(a,b,name='mul')\n",
        "y.eval()"
      ],
      "execution_count": 8,
      "outputs": [
        {
          "output_type": "execute_result",
          "data": {
            "text/plain": [
              "array([[0, 2],\n",
              "       [4, 6]], dtype=int32)"
            ]
          },
          "metadata": {
            "tags": []
          },
          "execution_count": 8
        }
      ]
    },
    {
      "metadata": {
        "id": "Zk9KFR21LuMn",
        "colab_type": "text"
      },
      "cell_type": "markdown",
      "source": [
        "Element wise addition and multiplication occurs in tensors. "
      ]
    },
    {
      "metadata": {
        "id": "nnDfTDfHUa6i",
        "colab_type": "code",
        "colab": {
          "base_uri": "https://localhost:8080/",
          "height": 51
        },
        "outputId": "89bb81c7-f7f6-4eca-f48f-f5a510bc62ec"
      },
      "cell_type": "code",
      "source": [
        "a = tf.zeros([2,2])\n",
        "a.eval()"
      ],
      "execution_count": 9,
      "outputs": [
        {
          "output_type": "execute_result",
          "data": {
            "text/plain": [
              "array([[0., 0.],\n",
              "       [0., 0.]], dtype=float32)"
            ]
          },
          "metadata": {
            "tags": []
          },
          "execution_count": 9
        }
      ]
    },
    {
      "metadata": {
        "id": "Fxp-f_j3VTCd",
        "colab_type": "code",
        "colab": {
          "base_uri": "https://localhost:8080/",
          "height": 68
        },
        "outputId": "c83d75c6-11a0-4630-cede-af274da7d16e"
      },
      "cell_type": "code",
      "source": [
        "b = tf.ones([3,3],dtype=tf.int32)\n",
        "b.eval()"
      ],
      "execution_count": 10,
      "outputs": [
        {
          "output_type": "execute_result",
          "data": {
            "text/plain": [
              "array([[1, 1, 1],\n",
              "       [1, 1, 1],\n",
              "       [1, 1, 1]], dtype=int32)"
            ]
          },
          "metadata": {
            "tags": []
          },
          "execution_count": 10
        }
      ]
    },
    {
      "metadata": {
        "id": "0ReD_jkeVnL9",
        "colab_type": "code",
        "colab": {
          "base_uri": "https://localhost:8080/",
          "height": 51
        },
        "outputId": "dc4605f4-60ab-460a-d769-e1a3f20be357"
      },
      "cell_type": "code",
      "source": [
        "a = tf.fill([2,3],8.0)\n",
        "a.eval()"
      ],
      "execution_count": 12,
      "outputs": [
        {
          "output_type": "execute_result",
          "data": {
            "text/plain": [
              "array([[8., 8., 8.],\n",
              "       [8., 8., 8.]], dtype=float32)"
            ]
          },
          "metadata": {
            "tags": []
          },
          "execution_count": 12
        }
      ]
    },
    {
      "metadata": {
        "id": "lf9hu34qXFya",
        "colab_type": "code",
        "colab": {
          "base_uri": "https://localhost:8080/",
          "height": 51
        },
        "outputId": "92a61347-5311-44d2-c92e-5a473777d07c"
      },
      "cell_type": "code",
      "source": [
        "tf.random_shuffle(x).eval()"
      ],
      "execution_count": 15,
      "outputs": [
        {
          "output_type": "execute_result",
          "data": {
            "text/plain": [
              "array([[4, 5],\n",
              "       [2, 3]], dtype=int32)"
            ]
          },
          "metadata": {
            "tags": []
          },
          "execution_count": 15
        }
      ]
    },
    {
      "metadata": {
        "id": "S1HP11y8NlkE",
        "colab_type": "text"
      },
      "cell_type": "markdown",
      "source": [
        "Different types of value assignments shown, mostly used to assign weights."
      ]
    },
    {
      "metadata": {
        "id": "u2OugL9UXTND",
        "colab_type": "code",
        "colab": {
          "base_uri": "https://localhost:8080/",
          "height": 34
        },
        "outputId": "ef8aac4c-283b-4282-8b9e-3d5f554a6dab"
      },
      "cell_type": "code",
      "source": [
        "import numpy as np\n",
        "\n",
        "tf.int32 == np.int32"
      ],
      "execution_count": 16,
      "outputs": [
        {
          "output_type": "execute_result",
          "data": {
            "text/plain": [
              "True"
            ]
          },
          "metadata": {
            "tags": []
          },
          "execution_count": 16
        }
      ]
    },
    {
      "metadata": {
        "id": "C_dsTs0INx7b",
        "colab_type": "text"
      },
      "cell_type": "markdown",
      "source": [
        "Comparison between tensorflow int32 datatype and numpy int32 shown"
      ]
    },
    {
      "metadata": {
        "id": "ETkDST8thpOk",
        "colab_type": "code",
        "colab": {
          "base_uri": "https://localhost:8080/",
          "height": 51
        },
        "outputId": "58073c45-7f76-4c96-ea88-b8bfb107dc0d"
      },
      "cell_type": "code",
      "source": [
        "a = tf.Variable(2, name='a')\n",
        "b = tf.Variable([6,7], name='vector')\n",
        "\n",
        "tf.global_variables_initializer().run()\n",
        "\n",
        "print(a.eval())\n",
        "print(b.eval())"
      ],
      "execution_count": 29,
      "outputs": [
        {
          "output_type": "stream",
          "text": [
            "2\n",
            "[6 7]\n"
          ],
          "name": "stdout"
        }
      ]
    },
    {
      "metadata": {
        "id": "icicn9umqUdA",
        "colab_type": "code",
        "colab": {
          "base_uri": "https://localhost:8080/",
          "height": 34
        },
        "outputId": "16876c75-8f18-4adb-9845-3d6d07f75715"
      },
      "cell_type": "code",
      "source": [
        "W = tf.Variable(10)\n",
        "W.assign(10)\n",
        "W.initializer.run()\n",
        "W.eval()"
      ],
      "execution_count": 4,
      "outputs": [
        {
          "output_type": "execute_result",
          "data": {
            "text/plain": [
              "10"
            ]
          },
          "metadata": {
            "tags": []
          },
          "execution_count": 4
        }
      ]
    },
    {
      "metadata": {
        "id": "jRUNhQWIrPMi",
        "colab_type": "code",
        "colab": {
          "base_uri": "https://localhost:8080/",
          "height": 51
        },
        "outputId": "b2831018-a8bb-431e-fda6-3cc972a89d56"
      },
      "cell_type": "code",
      "source": [
        "W = tf.Variable(2)\n",
        "U = tf.Variable(2*W.initialized_value())\n",
        "# U can not be initialized without initilizing W\n",
        "W.initializer.run()\n",
        "U.initializer.run()\n",
        "\n",
        "print(W.eval())\n",
        "print(U.eval())"
      ],
      "execution_count": 4,
      "outputs": [
        {
          "output_type": "stream",
          "text": [
            "2\n",
            "4\n"
          ],
          "name": "stdout"
        }
      ]
    },
    {
      "metadata": {
        "id": "bfeIStFxOEF8",
        "colab_type": "text"
      },
      "cell_type": "markdown",
      "source": [
        "Different types of tensor variable initialization shown."
      ]
    },
    {
      "metadata": {
        "id": "7aAsW8GifQjq",
        "colab_type": "code",
        "colab": {
          "base_uri": "https://localhost:8080/",
          "height": 34
        },
        "outputId": "84a49e91-ed9c-4fc7-a9ca-3fafa78df714"
      },
      "cell_type": "code",
      "source": [
        "a = tf.placeholder(tf.float32, shape=[3])\n",
        "b = tf.constant([5,5,5],tf.float32)\n",
        "c = a+b\n",
        "print(c.eval({a:[1,2,3]}))"
      ],
      "execution_count": 5,
      "outputs": [
        {
          "output_type": "stream",
          "text": [
            "[6. 7. 8.]\n"
          ],
          "name": "stdout"
        }
      ]
    },
    {
      "metadata": {
        "id": "gicnrDXWhUAo",
        "colab_type": "text"
      },
      "cell_type": "markdown",
      "source": [
        "Placeholders and input dictionary demonstrated."
      ]
    }
  ]
}